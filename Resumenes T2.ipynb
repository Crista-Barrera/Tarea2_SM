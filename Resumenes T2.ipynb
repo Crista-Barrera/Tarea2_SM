{
 "cells": [
  {
   "cell_type": "markdown",
   "metadata": {},
   "source": [
    "## RESUMENES IMPORTANCIA DE PHYTON\n",
    "\n",
    "### Python: 7 Important Reasons Why You Should Use Python\n",
    "* Readable and Maintainable Code:\n",
    "Las reglas de sintaxis de Python le permiten expresar conceptos sin escribir código adicional, al igual que enfatiza la legibilidad del código y así permite usar palabras clave en inglés en lugar de signos de puntuación. No se necesita invertir tiempo y esfuerzo adicionales.\n",
    "* Multiple Programming Paradigms:\n",
    "Python es totalmente compatible con la programación estructurada y orientada a objetos. También cuenta con un sistema de tipo dinámico y administración automática de memoria. Los paradigmas de programación y las características del lenguaje ayudan a  desarrollar aplicaciones de software grandes y complejas.\n",
    "* Compatible with Major Platforms and Systems:\n",
    "Python es un lenguaje de programación interpretado, lo que permite ejecutar el mismo código en múltiples plataformas sin tener que volver a compilarlo, o sea que no es necesario que vuelva a compilar el código después de realizar cualquier modificación. Realizar cambios no aumenta ni complica el tiempo requerido para elavorar algun programa.\n",
    "* Robust Standard Library:\n",
    "Cuenta con biblioteca estándar lo que permite elegir entre una amplia gama de módulos de acuerdo con sus necesidades precisas. Cada módulo permite agregar funcionalidad a la aplicación Python sin escribir código adicional. \n",
    "* Many Open Source Frameworks and Tools\n",
    "Se pueden usar varios marcos, bibliotecas y herramientas de desarrollo de Python de código abierto para reducir el tiempo de desarrollo sin aumentar el costo de desarrollo, de acuerdo con sus necesidades precisas.\n",
    "* Simplify Complex Software Development\n",
    "Se puede utilizar el lenguaje de programación para desarrollar aplicaciones web y de escritorio. Incluso se puede usar para desarrollar aplicaciones científicas y numéricas complejas. Python está diseñado con funciones para facilitar el análisis y la visualización de datos. \n",
    "* Adopt Test Driven Development\n",
    "Se puede utilizar Python para crear un prototipo de la aplicación de software rápidamente. Además, puede crear la aplicación de software directamente desde el prototipo simplemente refactorizando el código Python. Python incluso hace que sea más fácil para usted realizar la codificación y las pruebas simultáneamente al adoptar un enfoque de desarrollo impulsado por pruebas (TDD). \n",
    "Sin embargo, Python, llega a tener sus propias deficiencias. Carece de algunas de las funciones integradas proporcionadas por otros lenguajes de programación modernos. Por lo tanto, debe usar bibliotecas, módulos y marcos de Python para acelerar el desarrollo de software personalizado. Además, varios estudios han demostrado que Python es más lento que varios lenguajes de programación ampliamente utilizados, incluidos Java y C. Tienes que acelerar la aplicación Python realizando cambios en la aplicación.\n",
    "\n"
   ]
  },
  {
   "cell_type": "code",
   "execution_count": null,
   "metadata": {},
   "outputs": [],
   "source": []
  }
 ],
 "metadata": {
  "kernelspec": {
   "display_name": "Python 3",
   "language": "python",
   "name": "python3"
  },
  "language_info": {
   "codemirror_mode": {
    "name": "ipython",
    "version": 3
   },
   "file_extension": ".py",
   "mimetype": "text/x-python",
   "name": "python",
   "nbconvert_exporter": "python",
   "pygments_lexer": "ipython3",
   "version": "3.8.3"
  }
 },
 "nbformat": 4,
 "nbformat_minor": 4
}
